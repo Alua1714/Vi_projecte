{
 "cells": [
  {
   "cell_type": "code",
   "execution_count": 1,
   "id": "177ec656",
   "metadata": {},
   "outputs": [],
   "source": [
    "import pandas as pd\n",
    "from pathlib import Path\n",
    "import re\n",
    "import pandas as pd\n",
    "import matplotlib.pyplot as plt\n",
    "import plotly.express as px\n",
    "import altair as alt\n",
    "from vega_datasets import data\n",
    "import numpy as np\n",
    "\n",
    "\n",
    "BASE_DIR = Path(\"..\")\n",
    "ORIGINAL_DATA_DIR = BASE_DIR / \"original_data\"\n",
    "CLEAN_DATA_DIR = BASE_DIR / \"clean_data\"\n",
    "FILE_PATH_TERM = CLEAN_DATA_DIR / \"nsf_terminations_airtable.csv\"\n",
    "FILE_PATH_UNI = CLEAN_DATA_DIR / \"heis_usa.csv\"\n",
    "FILE_PATH_COMPLETE = CLEAN_DATA_DIR / \"nsf_awards_us_2019_2024.csv\"\n"
   ]
  },
  {
   "cell_type": "code",
   "execution_count": null,
   "id": "b852526f",
   "metadata": {},
   "outputs": [],
   "source": []
  }
 ],
 "metadata": {
  "kernelspec": {
   "display_name": "Python 3",
   "language": "python",
   "name": "python3"
  },
  "language_info": {
   "codemirror_mode": {
    "name": "ipython",
    "version": 3
   },
   "file_extension": ".py",
   "mimetype": "text/x-python",
   "name": "python",
   "nbconvert_exporter": "python",
   "pygments_lexer": "ipython3",
   "version": "3.10.4"
  }
 },
 "nbformat": 4,
 "nbformat_minor": 5
}
