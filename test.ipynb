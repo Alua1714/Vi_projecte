{
 "cells": [
  {
   "cell_type": "code",
   "execution_count": 2,
   "id": "da05edcd",
   "metadata": {},
   "outputs": [
    {
     "name": "stdout",
     "output_type": "stream",
     "text": [
      "Trying to fetch README from: https://raw.githubusercontent.com/rfordatascience/tidytuesday/refs/heads/main/data/2025/2025-05-06/readme.md\n",
      "Successfully fetched README from: https://raw.githubusercontent.com/rfordatascience/tidytuesday/refs/heads/main/data/2025/2025-05-06/readme.md\n",
      "Downloading meta.yaml...\n",
      "Successfully saved meta.yaml to c:\\Users\\eloip\\Documents\\UPC\\VI\\projecte\\Vi_projecte\\meta.yaml\n",
      "Downloading nsf-word-cloud.png...\n",
      "Successfully saved nsf-word-cloud.png to c:\\Users\\eloip\\Documents\\UPC\\VI\\projecte\\Vi_projecte\\nsf-word-cloud.png\n",
      "Downloading nsf_terminations.csv...\n",
      "Successfully saved nsf_terminations.csv to c:\\Users\\eloip\\Documents\\UPC\\VI\\projecte\\Vi_projecte\\nsf_terminations.csv\n"
     ]
    }
   ],
   "source": [
    "\n",
    "import pydytuesday\n",
    "import pandas\n",
    "# Download files from the week, which you can then read in locally\n",
    "pydytuesday.get_date('2025-05-06')\n",
    "\n",
    "# Option 2: Read directly from GitHub and assign to an object\n",
    "\n",
    "nsf_terminations = pandas.read_csv('https://raw.githubusercontent.com/rfordatascience/tidytuesday/main/data/2025/2025-05-06/nsf_terminations.csv')"
   ]
  },
  {
   "cell_type": "code",
   "execution_count": 3,
   "id": "56c7fe97",
   "metadata": {},
   "outputs": [
    {
     "data": {
      "text/plain": [
       "469"
      ]
     },
     "execution_count": 3,
     "metadata": {},
     "output_type": "execute_result"
    }
   ],
   "source": [
    "nsf_terminations[\"in_cruz_list\"].sum()"
   ]
  },
  {
   "cell_type": "code",
   "execution_count": 4,
   "id": "32b5562f",
   "metadata": {},
   "outputs": [
    {
     "data": {
      "text/plain": [
       "1041"
      ]
     },
     "execution_count": 4,
     "metadata": {},
     "output_type": "execute_result"
    }
   ],
   "source": [
    "len(nsf_terminations)"
   ]
  },
  {
   "cell_type": "code",
   "execution_count": null,
   "id": "5878da93",
   "metadata": {},
   "outputs": [],
   "source": []
  }
 ],
 "metadata": {
  "kernelspec": {
   "display_name": "Python 3",
   "language": "python",
   "name": "python3"
  },
  "language_info": {
   "codemirror_mode": {
    "name": "ipython",
    "version": 3
   },
   "file_extension": ".py",
   "mimetype": "text/x-python",
   "name": "python",
   "nbconvert_exporter": "python",
   "pygments_lexer": "ipython3",
   "version": "3.10.4"
  }
 },
 "nbformat": 4,
 "nbformat_minor": 5
}
