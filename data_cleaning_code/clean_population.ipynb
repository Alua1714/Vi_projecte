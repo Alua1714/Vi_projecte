{
 "cells": [
  {
   "cell_type": "code",
   "execution_count": 1,
   "id": "875225f4",
   "metadata": {},
   "outputs": [],
   "source": [
    "import pandas as pd\n",
    "from pathlib import Path\n",
    "\n",
    "BASE_DIR = Path(\"..\")\n",
    "ORIGINAL_DATA_DIR = BASE_DIR / \"original_data\"\n",
    "CLEAN_DATA_DIR = BASE_DIR / \"clean_data\"\n",
    "FILE_PATH = ORIGINAL_DATA_DIR / \"us_state_population.csv\"\n",
    "TARGET_PATH = CLEAN_DATA_DIR / \"us_state_population.csv\"\n",
    "data = pd.read_csv(FILE_PATH)\n",
    "data = data.drop(0)\n",
    "\n",
    "data = data[[\"State or territory\", \"Census population\"]]\n",
    "data = data.rename(\n",
    "    columns={\n",
    "        \"State or territory\": \"State\",\n",
    "        \"Census population\": \"state_population\",\n",
    "    }\n",
    ")"
   ]
  },
  {
   "cell_type": "markdown",
   "id": "460fbc80",
   "metadata": {},
   "source": [
    "We will also augmentate this dataset so it includes the state political party, if we need it for visualization later."
   ]
  },
  {
   "cell_type": "code",
   "execution_count": 2,
   "id": "5da9a98c",
   "metadata": {},
   "outputs": [],
   "source": [
    "states_status = {\n",
    "    \"Alabama\": \"Republican\",\n",
    "    \"Alaska\": \"Republican\",\n",
    "    \"Arizona\": \"Republican\",\n",
    "    \"Arkansas\": \"Republican\",\n",
    "    \"California\": \"Democratic\",\n",
    "    \"Colorado\": \"Democratic\",\n",
    "    \"Connecticut\": \"Democratic\",\n",
    "    \"Delaware\": \"Democratic\",\n",
    "    \"District of Columbia\": \"Democratic\",\n",
    "    \"Florida\": \"Republican\",\n",
    "    \"Georgia\": \"Republican\",\n",
    "    \"Hawaii\": \"Democratic\",\n",
    "    \"Idaho\": \"Republican\",\n",
    "    \"Illinois\": \"Democratic\",\n",
    "    \"Indiana\": \"Republican\",\n",
    "    \"Iowa\": \"Republican\",\n",
    "    \"Kansas\": \"Republican\",\n",
    "    \"Kentucky\": \"Republican\",\n",
    "    \"Louisiana\": \"Republican\",\n",
    "    \"Maine\": \"Democratic\",\n",
    "    \"Maryland\": \"Democratic\",\n",
    "    \"Massachusetts\": \"Democratic\",\n",
    "    \"Michigan\": \"Republican\",\n",
    "    \"Minnesota\": \"Democratic\",\n",
    "    \"Mississippi\": \"Republican\",\n",
    "    \"Missouri\": \"Republican\",\n",
    "    \"Montana\": \"Republican\",\n",
    "    \"Nebraska\": \"Republican\",\n",
    "    \"Nevada\": \"Republican\",\n",
    "    \"New Hampshire\": \"Democratic\",\n",
    "    \"New Jersey\": \"Democratic\",\n",
    "    \"New Mexico\": \"Democratic\",\n",
    "    \"New York\": \"Democratic\",\n",
    "    \"North Carolina\": \"Republican\",\n",
    "    \"North Dakota\": \"Republican\",\n",
    "    \"Ohio\": \"Republican\",\n",
    "    \"Oklahoma\": \"Republican\",\n",
    "    \"Oregon\": \"Democratic\",\n",
    "    \"Pennsylvania\": \"Republican\",\n",
    "    \"Rhode Island\": \"Democratic\",\n",
    "    \"South Carolina\": \"Republican\",\n",
    "    \"South Dakota\": \"Republican\",\n",
    "    \"Tennessee\": \"Republican\",\n",
    "    \"Texas\": \"Republican\",\n",
    "    \"Utah\": \"Republican\",\n",
    "    \"Virginia\": \"Democratic\",\n",
    "    \"Washington\": \"Democratic\",\n",
    "    \"West Virginia\": \"Republican\",\n",
    "    \"Wisconsin\": \"Republican\",\n",
    "    \"Wyoming\": \"Republican\",\n",
    "    \"Vermont\": \"Democratic\"\n",
    "}\n",
    "\n",
    "data[\"political_status\"] = data[\"State\"].map(states_status)"
   ]
  },
  {
   "cell_type": "code",
   "execution_count": 3,
   "id": "c6b6c68c",
   "metadata": {},
   "outputs": [],
   "source": [
    "data.to_csv(TARGET_PATH, index=False)"
   ]
  }
 ],
 "metadata": {
  "kernelspec": {
   "display_name": "Python 3",
   "language": "python",
   "name": "python3"
  },
  "language_info": {
   "codemirror_mode": {
    "name": "ipython",
    "version": 3
   },
   "file_extension": ".py",
   "mimetype": "text/x-python",
   "name": "python",
   "nbconvert_exporter": "python",
   "pygments_lexer": "ipython3",
   "version": "3.10.4"
  }
 },
 "nbformat": 4,
 "nbformat_minor": 5
}
