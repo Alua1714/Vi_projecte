{
 "cells": [
  {
   "cell_type": "code",
   "execution_count": 1,
   "id": "6f52c193",
   "metadata": {},
   "outputs": [],
   "source": [
    "import pandas as pd\n",
    "from pathlib import Path\n",
    "\n",
    "BASE_DIR = Path(\"..\")\n",
    "ORIGINAL_DATA_DIR = BASE_DIR / \"original_data\"\n",
    "CLEAN_DATA_DIR = BASE_DIR / \"clean_data\"\n",
    "FILE_PATH = ORIGINAL_DATA_DIR / \"cruz_list.csv\"\n",
    "TARGET_PATH = CLEAN_DATA_DIR / \"cruz_list.csv\"\n",
    "data = pd.read_csv(FILE_PATH)\n"
   ]
  },
  {
   "cell_type": "code",
   "execution_count": 2,
   "id": "4e8e6683",
   "metadata": {},
   "outputs": [],
   "source": [
    "def describe_dataset(df):\n",
    "    summary = []\n",
    "    for col in df.columns:\n",
    "        col_data = df[col]\n",
    "        summary.append({\n",
    "            'Column': col,\n",
    "            'Type': col_data.dtype,\n",
    "            'Nulls': col_data.isnull().sum(),\n",
    "            'Null %': round(col_data.isnull().mean() * 100, 2),\n",
    "            'Unique': col_data.nunique(dropna=True),\n",
    "            'Min': col_data.min() if pd.api.types.is_numeric_dtype(col_data) else None,\n",
    "            'Max': col_data.max() if pd.api.types.is_numeric_dtype(col_data) else None,\n",
    "            'Mean': round(col_data.mean(), 3) if pd.api.types.is_numeric_dtype(col_data) else None,\n",
    "            'Std': round(col_data.std(), 3) if pd.api.types.is_numeric_dtype(col_data) else None,\n",
    "            'Example values': col_data.dropna().unique()[:3].tolist()  # first 3 unique examples\n",
    "        })\n",
    "    \n",
    "    summary_df = pd.DataFrame(summary)\n",
    "    return summary_df"
   ]
  },
  {
   "cell_type": "code",
   "execution_count": 4,
   "id": "ddcd9b8d",
   "metadata": {},
   "outputs": [
    {
     "data": {
      "text/html": [
       "<div>\n",
       "<style scoped>\n",
       "    .dataframe tbody tr th:only-of-type {\n",
       "        vertical-align: middle;\n",
       "    }\n",
       "\n",
       "    .dataframe tbody tr th {\n",
       "        vertical-align: top;\n",
       "    }\n",
       "\n",
       "    .dataframe thead th {\n",
       "        text-align: right;\n",
       "    }\n",
       "</style>\n",
       "<table border=\"1\" class=\"dataframe\">\n",
       "  <thead>\n",
       "    <tr style=\"text-align: right;\">\n",
       "      <th></th>\n",
       "      <th>Column</th>\n",
       "      <th>Type</th>\n",
       "      <th>Nulls</th>\n",
       "      <th>Null %</th>\n",
       "      <th>Unique</th>\n",
       "      <th>Min</th>\n",
       "      <th>Max</th>\n",
       "      <th>Mean</th>\n",
       "      <th>Std</th>\n",
       "      <th>Example values</th>\n",
       "    </tr>\n",
       "  </thead>\n",
       "  <tbody>\n",
       "    <tr>\n",
       "      <th>0</th>\n",
       "      <td>grant_number;in_cruz_list</td>\n",
       "      <td>object</td>\n",
       "      <td>0</td>\n",
       "      <td>0.0</td>\n",
       "      <td>1041</td>\n",
       "      <td>None</td>\n",
       "      <td>None</td>\n",
       "      <td>None</td>\n",
       "      <td>None</td>\n",
       "      <td>[2011780;FALSE, 2027519;FALSE, 2034824;FALSE]</td>\n",
       "    </tr>\n",
       "  </tbody>\n",
       "</table>\n",
       "</div>"
      ],
      "text/plain": [
       "                      Column    Type  Nulls  Null %  Unique   Min   Max  Mean  \\\n",
       "0  grant_number;in_cruz_list  object      0     0.0    1041  None  None  None   \n",
       "\n",
       "    Std                                 Example values  \n",
       "0  None  [2011780;FALSE, 2027519;FALSE, 2034824;FALSE]  "
      ]
     },
     "execution_count": 4,
     "metadata": {},
     "output_type": "execute_result"
    }
   ],
   "source": [
    "describe_dataset(data)"
   ]
  },
  {
   "cell_type": "code",
   "execution_count": 3,
   "id": "c5cec100",
   "metadata": {},
   "outputs": [],
   "source": [
    "data.to_csv(TARGET_PATH, index=False)"
   ]
  }
 ],
 "metadata": {
  "kernelspec": {
   "display_name": "Python 3",
   "language": "python",
   "name": "python3"
  },
  "language_info": {
   "codemirror_mode": {
    "name": "ipython",
    "version": 3
   },
   "file_extension": ".py",
   "mimetype": "text/x-python",
   "name": "python",
   "nbconvert_exporter": "python",
   "pygments_lexer": "ipython3",
   "version": "3.10.4"
  }
 },
 "nbformat": 4,
 "nbformat_minor": 5
}
