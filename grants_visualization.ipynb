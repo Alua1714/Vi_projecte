{
 "cells": [
  {
   "cell_type": "code",
   "execution_count": null,
   "id": "e08c2109",
   "metadata": {},
   "outputs": [],
   "source": [
    "import pandas as pd\n",
    "from pathlib import Path\n",
    "\n",
    "BASE_DIR = Path(\"..\")\n",
    "ORIGINAL_DATA_DIR = BASE_DIR / \"original_data\"\n",
    "CLEAN_DATA_DIR = BASE_DIR / \"clean_data\"\n",
    "FILE_PATH = ORIGINAL_DATA_DIR / \"us_state_population.csv\"\n",
    "TARGET_PATH = CLEAN_DATA_DIR / \"us_state_population.csv\"\n",
    "data = pd.read_csv(FILE_PATH)\n",
    "data = data.drop(0)\n",
    "\n",
    "data = data[[\"State or territory\", \"Census population\"]]\n",
    "data = data.rename(\n",
    "    columns={\n",
    "        \"State or territory\": \"State\",\n",
    "        \"Census population\": \"state_population\",\n",
    "    }\n",
    ")"
   ]
  }
 ],
 "metadata": {
  "language_info": {
   "name": "python"
  }
 },
 "nbformat": 4,
 "nbformat_minor": 5
}
